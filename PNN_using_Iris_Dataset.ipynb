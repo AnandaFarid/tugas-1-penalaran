{
  "cells": [
    {
      "cell_type": "markdown",
      "metadata": {
        "colab_type": "text",
        "id": "view-in-github"
      },
      "source": [
        "<a href=\"https://colab.research.google.com/github/megh7a/Probabilistic-Neural-Network-with-Iris-Dataset/blob/main/PNN_using_Iris_Dataset.ipynb\" target=\"_parent\"><img src=\"https://colab.research.google.com/assets/colab-badge.svg\" alt=\"Open In Colab\"/></a>"
      ]
    },
    {
      "cell_type": "code",
      "execution_count": null,
      "metadata": {
        "colab": {
          "base_uri": "https://localhost:8080/"
        },
        "id": "04mWfF0-YBvK",
        "outputId": "f3a9cb78-0e34-48e2-ae26-e2adf930c057"
      },
      "outputs": [
        {
          "name": "stdout",
          "output_type": "stream",
          "text": [
            "     sepal.length  sepal.width  petal.length  petal.width  Class\n",
            "0             5.1          3.5           1.4          0.2      1\n",
            "1             4.9          3.0           1.4          0.2      1\n",
            "2             4.7          3.2           1.3          0.2      1\n",
            "3             4.6          3.1           1.5          0.2      1\n",
            "4             5.0          3.6           1.4          0.2      1\n",
            "..            ...          ...           ...          ...    ...\n",
            "145           6.7          3.0           5.2          2.3      3\n",
            "146           6.3          2.5           5.0          1.9      3\n",
            "147           6.5          3.0           5.2          2.0      3\n",
            "148           6.2          3.4           5.4          2.3      3\n",
            "149           5.9          3.0           5.1          1.8      3\n",
            "\n",
            "[150 rows x 5 columns]\n",
            "To show the cleaned data!\n",
            "3\n"
          ]
        }
      ],
      "source": [
        "# 0. import the needed packages\n",
        "import numpy as np\n",
        "import pandas as pd\n",
        "from numpy import genfromtxt\n",
        "import matplotlib.pyplot as plt\n",
        "\n",
        "# 1. Read the data points\n",
        "\n",
        "\n",
        "my_data = pd.read_csv('iris.csv', sep=',',header=0)\n",
        "cleaned_data = np.array([ my_data['sepal.length'].tolist(),my_data['sepal.width'].tolist(),my_data['petal.length'].tolist(),my_data['petal.width'].tolist()]).T\n",
        "# def NormalizeData(my_data):\n",
        "#     return (my_data - np.min(my_data)) / (np.max(my_data) - np.min(my_data))\n",
        "#cleaned_data = np.array([ my_data['Feature 1'].tolist(),my_data['Feature 2'].tolist()]).T\n",
        "#cleaned_data = np.array([ my_data['sepal.length'].tolist(),my_data['sepal.width'].tolist(),my_data['petal.length'].tolist(),my_data['petal.width'].tolist()]).T\n",
        "\n",
        "print (my_data)\n",
        "#print (cleaned_data)\n",
        "print(\"To show the cleaned data!\")\n",
        "\n",
        "# 2. Declare the needed variable \n",
        "groups = my_data.groupby('Class')\n",
        "number_of_classes = len(groups) \n",
        "print(number_of_classes) # Here we have 3 different classes\n",
        "dictionary_of_sum = {}\n",
        "numrber_of_features  = 4 # We have sepal length,sepal width,petal length and petal width\n",
        "sigma = 1\n",
        "increament_current_row_in_matrix = 0\n",
        "\n",
        "# 3. Define the point that we wish to classifiy - Clearly it is Red \n",
        "#point_want_to_classify = [6.1, 2.3, 4.7, 1.3]\n",
        "\n",
        "# **INPUT LAYER OF THE PNN **\n",
        "# 4. Loop via number of classes \n",
        "\n",
        "\t"
      ]
    },
    {
      "cell_type": "code",
      "execution_count": null,
      "metadata": {
        "colab": {
          "base_uri": "https://localhost:8080/"
        },
        "id": "VfMp8IcEUQF_",
        "outputId": "ac2c28c1-a0f5-4168-fa47-4f5ed7e9efc4"
      },
      "outputs": [
        {
          "name": "stdout",
          "output_type": "stream",
          "text": [
            "Enter the Sepal Length4.4\n",
            "Enter the Sepal Width3.2\n",
            "Enter the Petal Length1.5\n",
            "Enter the Petal Width0.3\n"
          ]
        }
      ],
      "source": [
        "slen=float(input(\"Enter the Sepal Length\"))\n",
        "swid=float(input(\"Enter the Sepal Width\"))\n",
        "plen=float(input(\"Enter the Petal Length\"))\n",
        "pwid=float(input(\"Enter the Petal Width\"))"
      ]
    }
  ],
  "metadata": {
    "colab": {
      "collapsed_sections": [],
      "include_colab_link": true,
      "name": "PNN using Iris Dataset.ipynb",
      "provenance": []
    },
    "kernelspec": {
      "display_name": "Python 3",
      "name": "python3"
    },
    "language_info": {
      "codemirror_mode": {
        "name": "ipython",
        "version": 3
      },
      "file_extension": ".py",
      "mimetype": "text/x-python",
      "name": "python",
      "nbconvert_exporter": "python",
      "pygments_lexer": "ipython3",
      "version": "3.11.2"
    }
  },
  "nbformat": 4,
  "nbformat_minor": 0
}
